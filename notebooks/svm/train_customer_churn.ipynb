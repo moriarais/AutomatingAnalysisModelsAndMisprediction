{
 "cells": [
  {
   "cell_type": "code",
   "execution_count": 108,
   "metadata": {},
   "outputs": [],
   "source": [
    "# data processing\n",
    "import numpy as np\n",
    "import os\n",
    "import sys\n",
    "import pandas as pd\n",
    "import pickle\n",
    "\n",
    "# Machine learning library\n",
    "import h2o\n",
    "from h2o.automl import H2OAutoML\n",
    "from sklearn.preprocessing import StandardScaler\n",
    "from sklearn.svm import LinearSVC\n",
    "from sklearn.metrics import confusion_matrix, roc_curve, auc\n",
    "\n",
    "# data visualizations\n",
    "import matplotlib.pyplot as plt\n",
    "import seaborn as sns\n"
   ]
  },
  {
   "cell_type": "code",
   "execution_count": 109,
   "metadata": {},
   "outputs": [],
   "source": [
    "# Processing configuration\n",
    "class Location:\n",
    "    \"\"\"Specify the locations of inputs and outputs\"\"\"\n",
    "\n",
    "    # Get the path of the directory containing the script file\n",
    "    script_dir = os.path.dirname(os.path.abspath(sys.path[0]))\n",
    "\n",
    "    # Navigate up to the top-level directory\n",
    "    src_level_dir = os.path.dirname(script_dir)\n",
    "\n",
    "    top_level_dir = os.path.dirname(src_level_dir)\n",
    "\n",
    "    # Define the relative path to the data directory\n",
    "    data_dir = os.path.join(top_level_dir, \"AutomatingAnalysisModelsAndMisprediction\\\\data\")\n",
    "\n",
    "    data_raw: str = f\"{data_dir}\\\\raw\\\\customer_churn.csv\"\n",
    "    data_csv_process: str = f\"{data_dir}\\\\processed\\\\customer_churn.csv\"\n",
    "    data_process: str = f\"{data_dir}\\\\processed\\\\customer_churn.pkl\"\n",
    "    \n",
    "    \n",
    "class ProcessConfig:\n",
    "    \"\"\"Specify the parameters of the `process` flow\"\"\"\n",
    "\n",
    "    label: str = \"Churn\"\n",
    "    test_size: float = 0.2"
   ]
  },
  {
   "cell_type": "code",
   "execution_count": 114,
   "metadata": {},
   "outputs": [],
   "source": [
    "# Processing functions\n",
    "def getProcessedData(file_path: str):\n",
    "    # read python dict back from the file\n",
    "    with open(file_path, 'rb') as f:\n",
    "        split_dict = pickle.load(f)\n",
    "\n",
    "    X_train = split_dict[\"X_train\"]\n",
    "    X_test = split_dict[\"X_test\"]\n",
    "    y_train = split_dict[\"y_train\"]\n",
    "    y_test = split_dict[\"y_test\"]\n",
    "    return X_train, X_test, y_train, y_test\n",
    "\n",
    "def getCSVData(url: str):\n",
    "    data = pd.reader(url)\n",
    "    return data\n"
   ]
  },
  {
   "cell_type": "code",
   "execution_count": 117,
   "metadata": {},
   "outputs": [
    {
     "ename": "AttributeError",
     "evalue": "'_csv.reader' object has no attribute 'columns'",
     "output_type": "error",
     "traceback": [
      "\u001b[1;31m---------------------------------------------------------------------------\u001b[0m",
      "\u001b[1;31mAttributeError\u001b[0m                            Traceback (most recent call last)",
      "Cell \u001b[1;32mIn[117], line 3\u001b[0m\n\u001b[0;32m      1\u001b[0m \u001b[39m# Get csv processed data\u001b[39;00m\n\u001b[0;32m      2\u001b[0m dataset \u001b[39m=\u001b[39m getCSVData(Location\u001b[39m.\u001b[39mdata_csv_process)\n\u001b[1;32m----> 3\u001b[0m dataset\u001b[39m.\u001b[39;49mcolumns\n",
      "\u001b[1;31mAttributeError\u001b[0m: '_csv.reader' object has no attribute 'columns'"
     ]
    }
   ],
   "source": [
    "# Get csv processed data\n",
    "dataset = getCSVData(Location.data_csv_process)\n",
    "dataset.columns"
   ]
  },
  {
   "cell_type": "code",
   "execution_count": null,
   "metadata": {},
   "outputs": [
    {
     "data": {
      "text/plain": [
       "['gender',\n",
       " 'SeniorCitizen',\n",
       " 'Partner',\n",
       " 'Dependents',\n",
       " 'tenure',\n",
       " 'PhoneService',\n",
       " 'PaperlessBilling',\n",
       " 'MonthlyCharges',\n",
       " 'TotalCharges',\n",
       " 'MultipleLines_No',\n",
       " 'MultipleLines_No phone service',\n",
       " 'MultipleLines_Yes',\n",
       " 'InternetService_DSL',\n",
       " 'InternetService_Fiber optic',\n",
       " 'InternetService_No',\n",
       " 'OnlineSecurity_No',\n",
       " 'OnlineSecurity_No internet service',\n",
       " 'OnlineSecurity_Yes',\n",
       " 'OnlineBackup_No',\n",
       " 'OnlineBackup_No internet service',\n",
       " 'OnlineBackup_Yes',\n",
       " 'DeviceProtection_No',\n",
       " 'DeviceProtection_No internet service',\n",
       " 'DeviceProtection_Yes',\n",
       " 'TechSupport_No',\n",
       " 'TechSupport_No internet service',\n",
       " 'TechSupport_Yes',\n",
       " 'StreamingTV_No',\n",
       " 'StreamingTV_No internet service',\n",
       " 'StreamingTV_Yes',\n",
       " 'StreamingMovies_No',\n",
       " 'StreamingMovies_No internet service',\n",
       " 'StreamingMovies_Yes',\n",
       " 'Contract_Month-to-month',\n",
       " 'Contract_One year',\n",
       " 'Contract_Two year',\n",
       " 'PaymentMethod_Bank transfer (automatic)',\n",
       " 'PaymentMethod_Credit card (automatic)',\n",
       " 'PaymentMethod_Electronic check',\n",
       " 'PaymentMethod_Mailed check']"
      ]
     },
     "execution_count": 76,
     "metadata": {},
     "output_type": "execute_result"
    }
   ],
   "source": [
    "# get the data\n",
    "X_train, X_test, Y_train, Y_test = getProcessedData(Location.data_process)\n"
   ]
  },
  {
   "cell_type": "code",
   "execution_count": null,
   "metadata": {},
   "outputs": [
    {
     "data": {
      "text/plain": [
       "array([4.32445521e-01, 1.35835351e-01, 3.71307506e-01, 2.11501211e-01,\n",
       "       2.76394673e+01, 8.95520581e-01, 5.94552058e-01, 6.78258984e+01,\n",
       "       2.04043235e+03, 4.20702179e-01, 8.31719128e-02, 3.84624697e-01,\n",
       "       2.92493947e-01, 5.12348668e-01, 1.63075061e-01, 5.53874092e-01,\n",
       "       1.63075061e-01, 2.03268765e-01, 4.62348668e-01, 1.63075061e-01,\n",
       "       2.75544794e-01, 4.63801453e-01, 1.63075061e-01, 2.72397094e-01,\n",
       "       5.44067797e-01, 1.63075061e-01, 2.11501211e-01, 3.94794189e-01,\n",
       "       1.63075061e-01, 3.52421308e-01, 3.84261501e-01, 1.63075061e-01,\n",
       "       3.54721550e-01, 6.39951574e-01, 1.50605327e-01, 1.64164649e-01,\n",
       "       1.56053269e-01, 1.52300242e-01, 3.51089588e-01, 1.78329298e-01])"
      ]
     },
     "execution_count": 60,
     "metadata": {},
     "output_type": "execute_result"
    }
   ],
   "source": [
    "# Standardize features. Require for Machine learning\n",
    "sc = StandardScaler()\n",
    "# Fit to data, then transform it\n",
    "X_train = sc.fit_transform(X_train)\n",
    "sc.mean_"
   ]
  },
  {
   "cell_type": "code",
   "execution_count": null,
   "metadata": {},
   "outputs": [
    {
     "data": {
      "text/plain": [
       "array([4.95415374e-01, 3.42613643e-01, 4.83154470e-01, 4.08372928e-01,\n",
       "       2.39832072e+01, 3.05881464e-01, 4.90978521e-01, 2.86407746e+01,\n",
       "       2.18393349e+03, 4.93671810e-01, 2.76141894e-01, 4.86506464e-01,\n",
       "       4.54907944e-01, 4.99847487e-01, 3.69434142e-01, 4.97089109e-01,\n",
       "       3.69434142e-01, 4.02430832e-01, 4.98580362e-01, 3.69434142e-01,\n",
       "       4.46788385e-01, 4.98687944e-01, 3.69434142e-01, 4.45193124e-01,\n",
       "       4.98054243e-01, 3.69434142e-01, 4.08372928e-01, 4.88806442e-01,\n",
       "       3.69434142e-01, 4.77724324e-01, 4.86420189e-01, 3.69434142e-01,\n",
       "       4.78428858e-01, 4.80014122e-01, 3.57663756e-01, 3.70424914e-01,\n",
       "       3.62905836e-01, 3.59311673e-01, 4.77310894e-01, 3.82789706e-01])"
      ]
     },
     "execution_count": 61,
     "metadata": {},
     "output_type": "execute_result"
    }
   ],
   "source": [
    "sc.scale_"
   ]
  },
  {
   "cell_type": "code",
   "execution_count": null,
   "metadata": {},
   "outputs": [],
   "source": [
    "# Perform standardization by centering and scaling\n",
    "X_test = sc.transform(X_test)"
   ]
  },
  {
   "cell_type": "code",
   "execution_count": null,
   "metadata": {},
   "outputs": [
    {
     "name": "stdout",
     "output_type": "stream",
     "text": [
      "Checking whether there is an H2O instance running at http://localhost:54321. connected.\n"
     ]
    },
    {
     "data": {
      "text/html": [
       "\n",
       "<style>\n",
       "\n",
       "#h2o-table-1.h2o-container {\n",
       "  overflow-x: auto;\n",
       "}\n",
       "#h2o-table-1 .h2o-table {\n",
       "  /* width: 100%; */\n",
       "  margin-top: 1em;\n",
       "  margin-bottom: 1em;\n",
       "}\n",
       "#h2o-table-1 .h2o-table caption {\n",
       "  white-space: nowrap;\n",
       "  caption-side: top;\n",
       "  text-align: left;\n",
       "  /* margin-left: 1em; */\n",
       "  margin: 0;\n",
       "  font-size: larger;\n",
       "}\n",
       "#h2o-table-1 .h2o-table thead {\n",
       "  white-space: nowrap; \n",
       "  position: sticky;\n",
       "  top: 0;\n",
       "  box-shadow: 0 -1px inset;\n",
       "}\n",
       "#h2o-table-1 .h2o-table tbody {\n",
       "  overflow: auto;\n",
       "}\n",
       "#h2o-table-1 .h2o-table th,\n",
       "#h2o-table-1 .h2o-table td {\n",
       "  text-align: right;\n",
       "  /* border: 1px solid; */\n",
       "}\n",
       "#h2o-table-1 .h2o-table tr:nth-child(even) {\n",
       "  /* background: #F5F5F5 */\n",
       "}\n",
       "\n",
       "</style>      \n",
       "<div id=\"h2o-table-1\" class=\"h2o-container\">\n",
       "  <table class=\"h2o-table\">\n",
       "    <caption></caption>\n",
       "    <thead></thead>\n",
       "    <tbody><tr><td>H2O_cluster_uptime:</td>\n",
       "<td>2 hours 28 mins</td></tr>\n",
       "<tr><td>H2O_cluster_timezone:</td>\n",
       "<td>Asia/Jerusalem</td></tr>\n",
       "<tr><td>H2O_data_parsing_timezone:</td>\n",
       "<td>UTC</td></tr>\n",
       "<tr><td>H2O_cluster_version:</td>\n",
       "<td>3.40.0.1</td></tr>\n",
       "<tr><td>H2O_cluster_version_age:</td>\n",
       "<td>17 days</td></tr>\n",
       "<tr><td>H2O_cluster_name:</td>\n",
       "<td>H2O_from_python_Administrator_71jcrd</td></tr>\n",
       "<tr><td>H2O_cluster_total_nodes:</td>\n",
       "<td>1</td></tr>\n",
       "<tr><td>H2O_cluster_free_memory:</td>\n",
       "<td>2.251 Gb</td></tr>\n",
       "<tr><td>H2O_cluster_total_cores:</td>\n",
       "<td>8</td></tr>\n",
       "<tr><td>H2O_cluster_allowed_cores:</td>\n",
       "<td>8</td></tr>\n",
       "<tr><td>H2O_cluster_status:</td>\n",
       "<td>locked, healthy</td></tr>\n",
       "<tr><td>H2O_connection_url:</td>\n",
       "<td>http://localhost:54321</td></tr>\n",
       "<tr><td>H2O_connection_proxy:</td>\n",
       "<td>{\"http\": null, \"https\": null}</td></tr>\n",
       "<tr><td>H2O_internal_security:</td>\n",
       "<td>False</td></tr>\n",
       "<tr><td>Python_version:</td>\n",
       "<td>3.11.0 final</td></tr></tbody>\n",
       "  </table>\n",
       "</div>\n"
      ],
      "text/plain": [
       "--------------------------  ------------------------------------\n",
       "H2O_cluster_uptime:         2 hours 28 mins\n",
       "H2O_cluster_timezone:       Asia/Jerusalem\n",
       "H2O_data_parsing_timezone:  UTC\n",
       "H2O_cluster_version:        3.40.0.1\n",
       "H2O_cluster_version_age:    17 days\n",
       "H2O_cluster_name:           H2O_from_python_Administrator_71jcrd\n",
       "H2O_cluster_total_nodes:    1\n",
       "H2O_cluster_free_memory:    2.251 Gb\n",
       "H2O_cluster_total_cores:    8\n",
       "H2O_cluster_allowed_cores:  8\n",
       "H2O_cluster_status:         locked, healthy\n",
       "H2O_connection_url:         http://localhost:54321\n",
       "H2O_connection_proxy:       {\"http\": null, \"https\": null}\n",
       "H2O_internal_security:      False\n",
       "Python_version:             3.11.0 final\n",
       "--------------------------  ------------------------------------"
      ]
     },
     "metadata": {},
     "output_type": "display_data"
    }
   ],
   "source": [
    "# Init an H2O cluster\n",
    "h2o.init()"
   ]
  },
  {
   "cell_type": "code",
   "execution_count": null,
   "metadata": {},
   "outputs": [
    {
     "name": "stdout",
     "output_type": "stream",
     "text": [
      "Parse progress: |████████████████████████████████████████████████████████████████| (done) 100%\n"
     ]
    },
    {
     "data": {
      "text/plain": [
       "41"
      ]
     },
     "execution_count": 69,
     "metadata": {},
     "output_type": "execute_result"
    }
   ],
   "source": [
    "# Convert training data to H2OFrame\n",
    "# the train result will be used to train a machine learning model\n",
    "train = h2o.H2OFrame(np.concatenate((X_train, Y_train.values.reshape(-1, 1)), axis=1))\n"
   ]
  },
  {
   "cell_type": "code",
   "execution_count": null,
   "metadata": {},
   "outputs": [
    {
     "ename": "H2OValueError",
     "evalue": "Argument `names` (= ['gender', 'SeniorCitizen', 'Partner', 'Dependents', 'tenure', 'PhoneService', 'PaperlessBilling', 'MonthlyCharges', 'TotalCharges', 'MultipleLines_No', 'MultipleLines_No phone service', 'MultipleLines_Yes', 'InternetService_DSL', 'InternetService_Fiber optic', 'InternetService_No', 'OnlineSecurity_No', 'OnlineSecurity_No internet service', 'OnlineSecurity_Yes', 'OnlineBackup_No', 'OnlineBackup_No internet service', 'OnlineBackup_Yes', 'DeviceProtection_No', 'DeviceProtection_No internet service', 'DeviceProtection_Yes', 'TechSupport_No', 'TechSupport_No internet service', 'TechSupport_Yes', 'StreamingTV_No', 'StreamingTV_No internet service', 'StreamingTV_Yes', 'StreamingMovies_No', 'StreamingMovies_No internet service', 'StreamingMovies_Yes', 'Contract_Month-to-month', 'Contract_One year', 'Contract_Two year', 'PaymentMethod_Bank transfer (automatic)', 'PaymentMethod_Credit card (automatic)', 'PaymentMethod_Electronic check', 'PaymentMethod_Mailed check']) does not satisfy the condition len(names) == self.ncol",
     "output_type": "error",
     "traceback": [
      "\u001b[1;31m---------------------------------------------------------------------------\u001b[0m",
      "\u001b[1;31mH2OValueError\u001b[0m                             Traceback (most recent call last)",
      "Cell \u001b[1;32mIn[68], line 1\u001b[0m\n\u001b[1;32m----> 1\u001b[0m train\u001b[39m.\u001b[39;49mcolumns \u001b[39m=\u001b[39m columnsNames\u001b[39m.\u001b[39mtolist()\n\u001b[0;32m      2\u001b[0m train[ProcessConfig\u001b[39m.\u001b[39mlabel] \u001b[39m=\u001b[39m train[ProcessConfig\u001b[39m.\u001b[39mlabel]\u001b[39m.\u001b[39masfactor()\n",
      "File \u001b[1;32mc:\\Python311\\Lib\\site-packages\\h2o\\frame.py:4828\u001b[0m, in \u001b[0;36mH2OFrame.columns\u001b[1;34m(self, value)\u001b[0m\n\u001b[0;32m   4826\u001b[0m \u001b[39m@columns\u001b[39m\u001b[39m.\u001b[39msetter\n\u001b[0;32m   4827\u001b[0m \u001b[39mdef\u001b[39;00m \u001b[39mcolumns\u001b[39m(\u001b[39mself\u001b[39m, value):\n\u001b[1;32m-> 4828\u001b[0m     \u001b[39mself\u001b[39;49m\u001b[39m.\u001b[39;49mset_names(value)\n",
      "File \u001b[1;32mc:\\Python311\\Lib\\site-packages\\h2o\\frame.py:1572\u001b[0m, in \u001b[0;36mH2OFrame.set_names\u001b[1;34m(self, names)\u001b[0m\n\u001b[0;32m   1554\u001b[0m \u001b[39m\u001b[39m\u001b[39m\"\"\"\u001b[39;00m\n\u001b[0;32m   1555\u001b[0m \u001b[39mChange names of all columns in the frame.\u001b[39;00m\n\u001b[0;32m   1556\u001b[0m \n\u001b[1;32m   (...)\u001b[0m\n\u001b[0;32m   1569\u001b[0m \u001b[39m>>> h2oframe.set_names(names=newNames)\u001b[39;00m\n\u001b[0;32m   1570\u001b[0m \u001b[39m\"\"\"\u001b[39;00m\n\u001b[0;32m   1571\u001b[0m assert_is_type(names, [\u001b[39mstr\u001b[39m])\n\u001b[1;32m-> 1572\u001b[0m assert_satisfies(names, \u001b[39mlen\u001b[39;49m(names) \u001b[39m==\u001b[39;49m \u001b[39mself\u001b[39;49m\u001b[39m.\u001b[39;49mncol)\n\u001b[0;32m   1573\u001b[0m \u001b[39mself\u001b[39m\u001b[39m.\u001b[39m_ex \u001b[39m=\u001b[39m ExprNode(\u001b[39m\"\u001b[39m\u001b[39mcolnames=\u001b[39m\u001b[39m\"\u001b[39m, \u001b[39mself\u001b[39m, \u001b[39mrange\u001b[39m(\u001b[39mself\u001b[39m\u001b[39m.\u001b[39mncol), names)  \u001b[39m# Update-in-place, but still lazy\u001b[39;00m\n\u001b[0;32m   1574\u001b[0m \u001b[39mreturn\u001b[39;00m \u001b[39mself\u001b[39m\n",
      "File \u001b[1;32mc:\\Python311\\Lib\\site-packages\\h2o\\utils\\typechecks.py:486\u001b[0m, in \u001b[0;36massert_satisfies\u001b[1;34m(v, cond, message)\u001b[0m\n\u001b[0;32m    483\u001b[0m \u001b[39mif\u001b[39;00m \u001b[39mnot\u001b[39;00m message:\n\u001b[0;32m    484\u001b[0m     message \u001b[39m=\u001b[39m \u001b[39m\"\u001b[39m\u001b[39mArgument `\u001b[39m\u001b[39m{var}\u001b[39;00m\u001b[39m` (= \u001b[39m\u001b[39m{val!r}\u001b[39;00m\u001b[39m) does not satisfy the condition \u001b[39m\u001b[39m{expr}\u001b[39;00m\u001b[39m\"\u001b[39m \\\n\u001b[0;32m    485\u001b[0m               \u001b[39m.\u001b[39mformat(var\u001b[39m=\u001b[39mvname, val\u001b[39m=\u001b[39mv, expr\u001b[39m=\u001b[39mvexpr)\n\u001b[1;32m--> 486\u001b[0m \u001b[39mraise\u001b[39;00m H2OValueError(message\u001b[39m=\u001b[39mmessage, var_name\u001b[39m=\u001b[39mvname, skip_frames\u001b[39m=\u001b[39m\u001b[39m1\u001b[39m)\n",
      "\u001b[1;31mH2OValueError\u001b[0m: Argument `names` (= ['gender', 'SeniorCitizen', 'Partner', 'Dependents', 'tenure', 'PhoneService', 'PaperlessBilling', 'MonthlyCharges', 'TotalCharges', 'MultipleLines_No', 'MultipleLines_No phone service', 'MultipleLines_Yes', 'InternetService_DSL', 'InternetService_Fiber optic', 'InternetService_No', 'OnlineSecurity_No', 'OnlineSecurity_No internet service', 'OnlineSecurity_Yes', 'OnlineBackup_No', 'OnlineBackup_No internet service', 'OnlineBackup_Yes', 'DeviceProtection_No', 'DeviceProtection_No internet service', 'DeviceProtection_Yes', 'TechSupport_No', 'TechSupport_No internet service', 'TechSupport_Yes', 'StreamingTV_No', 'StreamingTV_No internet service', 'StreamingTV_Yes', 'StreamingMovies_No', 'StreamingMovies_No internet service', 'StreamingMovies_Yes', 'Contract_Month-to-month', 'Contract_One year', 'Contract_Two year', 'PaymentMethod_Bank transfer (automatic)', 'PaymentMethod_Credit card (automatic)', 'PaymentMethod_Electronic check', 'PaymentMethod_Mailed check']) does not satisfy the condition len(names) == self.ncol"
     ]
    }
   ],
   "source": [
    "train.columns = list(dataset.columns)\n",
    "train[ProcessConfig.label] = train[ProcessConfig.label].asfactor()"
   ]
  },
  {
   "cell_type": "code",
   "execution_count": null,
   "metadata": {},
   "outputs": [],
   "source": [
    "# Specify target variable and predictor variables\n",
    "x = train.columns[:-1]\n",
    "y = train.columns[-1]"
   ]
  },
  {
   "cell_type": "code",
   "execution_count": null,
   "metadata": {},
   "outputs": [],
   "source": [
    "# Run H2O AutoML to automatically select, train and optimize SVM model\n",
    "aml = H2OAutoML(max_models=10, sort_metric='mse', max_runtime_secs=5 * 60, seed=666)\n",
    "aml.train(x=x, y=y, training_frame=train)"
   ]
  },
  {
   "cell_type": "code",
   "execution_count": null,
   "metadata": {},
   "outputs": [],
   "source": [
    "# View the leaderboard of trained models\n",
    "lb = aml.leaderboard\n",
    "print(lb.head())"
   ]
  },
  {
   "cell_type": "code",
   "execution_count": null,
   "metadata": {},
   "outputs": [],
   "source": [
    "# Use the best model to predict on test data\n",
    "model = aml.leader\n",
    "X_h2o = h2o.H2OFrame(X_test)\n",
    "X_h2o.columns = list(dataset.columns)[:-1]\n",
    "y_pred = model.predict(X_h2o).as_data_frame().values.flatten()"
   ]
  },
  {
   "cell_type": "code",
   "execution_count": null,
   "metadata": {},
   "outputs": [],
   "source": [
    "# Train a PySVM SVM model\n",
    "model = LinearSVC(random_state=0, tol=1e-5, max_iter=10000, dual=False)\n",
    "Y_pred = model.fit(X_train, Y_train)"
   ]
  },
  {
   "cell_type": "code",
   "execution_count": null,
   "metadata": {},
   "outputs": [],
   "source": [
    "# fig, ax = plt.subplots(figsize=(8,5))\n",
    "# sns.scatterplot(Y_pred, y[ProcessConfig.label] ,ax=ax)\n",
    "# sns.lineplot(Y_pred,Y_pred,ax=ax,color='black')\n",
    "# ax.set_xlabel(ProcessConfig.label)"
   ]
  },
  {
   "cell_type": "code",
   "execution_count": null,
   "metadata": {},
   "outputs": [],
   "source": [
    "# Test the model on the test data\n",
    "y_pred = model.predict(X_test)\n",
    "misclassified = np.where(Y_test != y_pred)[0]\n",
    "print(\"Indices of potentially misclassified instances: \", misclassified)"
   ]
  },
  {
   "cell_type": "code",
   "execution_count": null,
   "metadata": {},
   "outputs": [],
   "source": [
    "# Confusion matrix - summarizing the performance of a classification algorithm.\n",
    "cm = confusion_matrix(Y_test, y_pred)\n",
    "plt.figure()\n",
    "plt.imshow(cm, cmap=plt.cm.Blues)\n",
    "plt.title(\"Confusion matrix\")\n",
    "plt.colorbar()\n",
    "plt.xlabel(\"Predicted label\")\n",
    "plt.ylabel(\"True label\")\n",
    "plt.xticks([0, 1], [\"Negative\", \"Positive\"])\n",
    "plt.yticks([0, 1], [\"Negative\", \"Positive\"])\n",
    "plt.tight_layout()\n",
    "plt.show()"
   ]
  },
  {
   "cell_type": "code",
   "execution_count": null,
   "metadata": {},
   "outputs": [],
   "source": [
    "# ROC curve\n",
    "fpr, tpr, thresholds = roc_curve(Y_test, y_pred)\n",
    "roc_auc = auc(fpr, tpr)\n",
    "plt.figure()\n",
    "plt.plot(fpr, tpr, color=\"darkorange\", lw=2, label=\"ROC curve (area = %0.2f)\" % roc_auc)\n",
    "plt.plot([0, 1], [0, 1], color=\"navy\", lw=2, linestyle=\"--\")\n",
    "plt.xlim([0.0, 1.0])\n",
    "plt.ylim([0.0, 1.05])\n",
    "plt.xlabel(\"False Positive Rate\")\n",
    "plt.ylabel(\"True Positive Rate\")\n",
    "plt.title(\"Receiver operating characteristic (ROC)\")\n",
    "plt.legend(loc=\"lower right\")\n",
    "plt.show()"
   ]
  }
 ],
 "metadata": {
  "kernelspec": {
   "display_name": "Python 3",
   "language": "python",
   "name": "python3"
  },
  "language_info": {
   "codemirror_mode": {
    "name": "ipython",
    "version": 3
   },
   "file_extension": ".py",
   "mimetype": "text/x-python",
   "name": "python",
   "nbconvert_exporter": "python",
   "pygments_lexer": "ipython3",
   "version": "3.11.0"
  },
  "orig_nbformat": 4,
  "vscode": {
   "interpreter": {
    "hash": "c261aea317cc0286b3b3261fbba9abdec21eaa57589985bb7a274bf54d6cc0a7"
   }
  }
 },
 "nbformat": 4,
 "nbformat_minor": 2
}
