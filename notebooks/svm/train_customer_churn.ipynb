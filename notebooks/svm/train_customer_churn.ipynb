{
 "cells": [
  {
   "cell_type": "code",
   "execution_count": 123,
   "metadata": {},
   "outputs": [],
   "source": [
    "# data processing\n",
    "import numpy as np\n",
    "import os\n",
    "import sys\n",
    "import pandas as pd\n",
    "import pickle\n",
    "\n",
    "# Machine learning library\n",
    "import h2o\n",
    "from h2o.automl import H2OAutoML\n",
    "from sklearn.preprocessing import StandardScaler\n",
    "from sklearn.svm import LinearSVC\n",
    "from sklearn.metrics import confusion_matrix, roc_curve, auc\n",
    "\n",
    "# data visualizations\n",
    "import matplotlib.pyplot as plt\n",
    "import seaborn as sns\n"
   ]
  },
  {
   "cell_type": "code",
   "execution_count": 124,
   "metadata": {},
   "outputs": [],
   "source": [
    "# Processing configuration\n",
    "class Location:\n",
    "    \"\"\"Specify the locations of inputs and outputs\"\"\"\n",
    "\n",
    "    # Get the path of the directory containing the script file\n",
    "    script_dir = os.path.dirname(os.path.abspath(sys.path[0]))\n",
    "\n",
    "    # Navigate up to the top-level directory\n",
    "    src_level_dir = os.path.dirname(script_dir)\n",
    "\n",
    "    top_level_dir = os.path.dirname(src_level_dir)\n",
    "\n",
    "    # Define the relative path to the data directory\n",
    "    data_dir = os.path.join(top_level_dir, \"AutomatingAnalysisModelsAndMisprediction\\\\data\")\n",
    "\n",
    "    data_raw: str = f\"{data_dir}\\\\raw\\\\customer_churn.csv\"\n",
    "    data_csv_process: str = f\"{data_dir}\\\\processed\\\\customer_churn.csv\"\n",
    "    data_process: str = f\"{data_dir}\\\\processed\\\\customer_churn.pkl\"\n",
    "    \n",
    "    \n",
    "class ProcessConfig:\n",
    "    \"\"\"Specify the parameters of the `process` flow\"\"\"\n",
    "\n",
    "    label: str = \"Churn\"\n",
    "    test_size: float = 0.2"
   ]
  },
  {
   "cell_type": "code",
   "execution_count": 125,
   "metadata": {},
   "outputs": [],
   "source": [
    "# Processing functions\n",
    "def getProcessedData(file_path: str):\n",
    "    # read python dict back from the file\n",
    "    with open(file_path, 'rb') as f:\n",
    "        split_dict = pickle.load(f)\n",
    "\n",
    "    X_train = split_dict[\"X_train\"]\n",
    "    X_test = split_dict[\"X_test\"]\n",
    "    y_train = split_dict[\"y_train\"]\n",
    "    y_test = split_dict[\"y_test\"]\n",
    "    return X_train, X_test, y_train, y_test\n",
    "\n",
    "def getCSVData(url: str):\n",
    "    data = pd.read_csv(url)\n",
    "    return data\n"
   ]
  },
  {
   "cell_type": "code",
   "execution_count": 126,
   "metadata": {},
   "outputs": [
    {
     "data": {
      "text/plain": [
       "41"
      ]
     },
     "execution_count": 126,
     "metadata": {},
     "output_type": "execute_result"
    }
   ],
   "source": [
    "# Get csv processed data\n",
    "dataset = getCSVData(Location.data_csv_process)\n",
    "len(dataset.columns)"
   ]
  },
  {
   "cell_type": "code",
   "execution_count": 127,
   "metadata": {},
   "outputs": [],
   "source": [
    "# get the data\n",
    "X_train, X_test, Y_train, Y_test = getProcessedData(Location.data_process)\n"
   ]
  },
  {
   "cell_type": "code",
   "execution_count": 128,
   "metadata": {},
   "outputs": [
    {
     "data": {
      "text/plain": [
       "array([4.31355932e-01, 1.34140436e-01, 3.75544794e-01, 2.13559322e-01,\n",
       "       2.75952785e+01, 8.95278450e-01, 5.99636804e-01, 6.79727120e+01,\n",
       "       2.04012313e+03, 4.18280872e-01, 8.40193705e-02, 3.86440678e-01,\n",
       "       2.94430993e-01, 5.13922518e-01, 1.61743341e-01, 5.53510896e-01,\n",
       "       1.61743341e-01, 2.04842615e-01, 4.63075061e-01, 1.61743341e-01,\n",
       "       2.72518160e-01, 4.66101695e-01, 1.61743341e-01, 2.75665860e-01,\n",
       "       5.45520581e-01, 1.61743341e-01, 2.11985472e-01, 3.91525424e-01,\n",
       "       1.61743341e-01, 3.55932203e-01, 3.85472155e-01, 1.61743341e-01,\n",
       "       3.61138015e-01, 6.39709443e-01, 1.52905569e-01, 1.63438257e-01,\n",
       "       1.54358354e-01, 1.52663438e-01, 3.54721550e-01, 1.76755448e-01])"
      ]
     },
     "execution_count": 128,
     "metadata": {},
     "output_type": "execute_result"
    }
   ],
   "source": [
    "# Standardize features. Require for Machine learning\n",
    "sc = StandardScaler()\n",
    "# Fit to data, then transform it\n",
    "X_train = sc.fit_transform(X_train)\n",
    "sc.mean_"
   ]
  },
  {
   "cell_type": "code",
   "execution_count": 129,
   "metadata": {},
   "outputs": [
    {
     "data": {
      "text/plain": [
       "array([4.95265577e-01, 3.40803139e-01, 4.84263257e-01, 4.09819153e-01,\n",
       "       2.40148008e+01, 3.06194296e-01, 4.89971945e-01, 2.86991180e+01,\n",
       "       2.18862800e+03, 4.93276782e-01, 2.77416863e-01, 4.86933548e-01,\n",
       "       4.55786554e-01, 4.99806126e-01, 3.68215199e-01, 4.97128338e-01,\n",
       "       3.68215199e-01, 4.03586568e-01, 4.98634685e-01, 3.68215199e-01,\n",
       "       4.45254997e-01, 4.98849581e-01, 3.68215199e-01, 4.46849184e-01,\n",
       "       4.97923565e-01, 3.68215199e-01, 4.08714609e-01, 4.88091453e-01,\n",
       "       3.68215199e-01, 4.78794810e-01, 4.86706660e-01, 3.68215199e-01,\n",
       "       4.80330458e-01, 4.80084650e-01, 3.59896452e-01, 3.69765051e-01,\n",
       "       3.61291921e-01, 3.59662777e-01, 4.78428858e-01, 3.81461610e-01])"
      ]
     },
     "execution_count": 129,
     "metadata": {},
     "output_type": "execute_result"
    }
   ],
   "source": [
    "sc.scale_"
   ]
  },
  {
   "cell_type": "code",
   "execution_count": 130,
   "metadata": {},
   "outputs": [],
   "source": [
    "# Perform standardization by centering and scaling\n",
    "X_test = sc.transform(X_test)"
   ]
  },
  {
   "cell_type": "code",
   "execution_count": 131,
   "metadata": {},
   "outputs": [
    {
     "name": "stdout",
     "output_type": "stream",
     "text": [
      "Checking whether there is an H2O instance running at http://localhost:54321. connected.\n"
     ]
    },
    {
     "data": {
      "text/html": [
       "\n",
       "<style>\n",
       "\n",
       "#h2o-table-2.h2o-container {\n",
       "  overflow-x: auto;\n",
       "}\n",
       "#h2o-table-2 .h2o-table {\n",
       "  /* width: 100%; */\n",
       "  margin-top: 1em;\n",
       "  margin-bottom: 1em;\n",
       "}\n",
       "#h2o-table-2 .h2o-table caption {\n",
       "  white-space: nowrap;\n",
       "  caption-side: top;\n",
       "  text-align: left;\n",
       "  /* margin-left: 1em; */\n",
       "  margin: 0;\n",
       "  font-size: larger;\n",
       "}\n",
       "#h2o-table-2 .h2o-table thead {\n",
       "  white-space: nowrap; \n",
       "  position: sticky;\n",
       "  top: 0;\n",
       "  box-shadow: 0 -1px inset;\n",
       "}\n",
       "#h2o-table-2 .h2o-table tbody {\n",
       "  overflow: auto;\n",
       "}\n",
       "#h2o-table-2 .h2o-table th,\n",
       "#h2o-table-2 .h2o-table td {\n",
       "  text-align: right;\n",
       "  /* border: 1px solid; */\n",
       "}\n",
       "#h2o-table-2 .h2o-table tr:nth-child(even) {\n",
       "  /* background: #F5F5F5 */\n",
       "}\n",
       "\n",
       "</style>      \n",
       "<div id=\"h2o-table-2\" class=\"h2o-container\">\n",
       "  <table class=\"h2o-table\">\n",
       "    <caption></caption>\n",
       "    <thead></thead>\n",
       "    <tbody><tr><td>H2O_cluster_uptime:</td>\n",
       "<td>9 hours 33 mins</td></tr>\n",
       "<tr><td>H2O_cluster_timezone:</td>\n",
       "<td>Asia/Jerusalem</td></tr>\n",
       "<tr><td>H2O_data_parsing_timezone:</td>\n",
       "<td>UTC</td></tr>\n",
       "<tr><td>H2O_cluster_version:</td>\n",
       "<td>3.40.0.1</td></tr>\n",
       "<tr><td>H2O_cluster_version_age:</td>\n",
       "<td>18 days</td></tr>\n",
       "<tr><td>H2O_cluster_name:</td>\n",
       "<td>H2O_from_python_Administrator_71jcrd</td></tr>\n",
       "<tr><td>H2O_cluster_total_nodes:</td>\n",
       "<td>1</td></tr>\n",
       "<tr><td>H2O_cluster_free_memory:</td>\n",
       "<td>2.247 Gb</td></tr>\n",
       "<tr><td>H2O_cluster_total_cores:</td>\n",
       "<td>8</td></tr>\n",
       "<tr><td>H2O_cluster_allowed_cores:</td>\n",
       "<td>8</td></tr>\n",
       "<tr><td>H2O_cluster_status:</td>\n",
       "<td>locked, healthy</td></tr>\n",
       "<tr><td>H2O_connection_url:</td>\n",
       "<td>http://localhost:54321</td></tr>\n",
       "<tr><td>H2O_connection_proxy:</td>\n",
       "<td>{\"http\": null, \"https\": null}</td></tr>\n",
       "<tr><td>H2O_internal_security:</td>\n",
       "<td>False</td></tr>\n",
       "<tr><td>Python_version:</td>\n",
       "<td>3.11.0 final</td></tr></tbody>\n",
       "  </table>\n",
       "</div>\n"
      ],
      "text/plain": [
       "--------------------------  ------------------------------------\n",
       "H2O_cluster_uptime:         9 hours 33 mins\n",
       "H2O_cluster_timezone:       Asia/Jerusalem\n",
       "H2O_data_parsing_timezone:  UTC\n",
       "H2O_cluster_version:        3.40.0.1\n",
       "H2O_cluster_version_age:    18 days\n",
       "H2O_cluster_name:           H2O_from_python_Administrator_71jcrd\n",
       "H2O_cluster_total_nodes:    1\n",
       "H2O_cluster_free_memory:    2.247 Gb\n",
       "H2O_cluster_total_cores:    8\n",
       "H2O_cluster_allowed_cores:  8\n",
       "H2O_cluster_status:         locked, healthy\n",
       "H2O_connection_url:         http://localhost:54321\n",
       "H2O_connection_proxy:       {\"http\": null, \"https\": null}\n",
       "H2O_internal_security:      False\n",
       "Python_version:             3.11.0 final\n",
       "--------------------------  ------------------------------------"
      ]
     },
     "metadata": {},
     "output_type": "display_data"
    }
   ],
   "source": [
    "# Init an H2O cluster\n",
    "h2o.init()"
   ]
  },
  {
   "cell_type": "code",
   "execution_count": 132,
   "metadata": {},
   "outputs": [
    {
     "name": "stdout",
     "output_type": "stream",
     "text": [
      "Parse progress: |████████████████████████████████████████████████████████████████| (done) 100%\n"
     ]
    }
   ],
   "source": [
    "# Convert training data to H2OFrame\n",
    "# the train result will be used to train a machine learning model\n",
    "train = h2o.H2OFrame(np.concatenate((X_train, Y_train.values.reshape(-1, 1)), axis=1))\n"
   ]
  },
  {
   "cell_type": "code",
   "execution_count": 134,
   "metadata": {},
   "outputs": [],
   "source": [
    "train.columns = list(dataset.columns)\n",
    "# train[ProcessConfig.label] = train[ProcessConfig.label].asfactor()"
   ]
  },
  {
   "cell_type": "code",
   "execution_count": 135,
   "metadata": {},
   "outputs": [],
   "source": [
    "# Specify target variable and predictor variables\n",
    "x = train.columns[:-1]\n",
    "y = train.columns[-1]"
   ]
  },
  {
   "cell_type": "code",
   "execution_count": 136,
   "metadata": {},
   "outputs": [
    {
     "name": "stdout",
     "output_type": "stream",
     "text": [
      "AutoML progress: |█\n",
      "22:35:08.189: AutoML: XGBoost is not available; skipping it.\n",
      "22:35:08.219: _response param, We have detected that your response column has only 2 unique values (0/1). If you wish to train a binary model instead of a regression model, convert your target column to categorical before training.\n",
      "22:35:10.862: _response param, We have detected that your response column has only 2 unique values (0/1). If you wish to train a binary model instead of a regression model, convert your target column to categorical before training.\n",
      "\n",
      "██████\n",
      "22:35:32.744: _response param, We have detected that your response column has only 2 unique values (0/1). If you wish to train a binary model instead of a regression model, convert your target column to categorical before training.\n",
      "\n",
      "███\n",
      "22:35:48.978: _response param, We have detected that your response column has only 2 unique values (0/1). If you wish to train a binary model instead of a regression model, convert your target column to categorical before training.\n",
      "\n",
      "█\n",
      "22:35:56.563: _response param, We have detected that your response column has only 2 unique values (0/1). If you wish to train a binary model instead of a regression model, convert your target column to categorical before training.\n",
      "\n",
      "███\n",
      "22:36:04.400: _response param, We have detected that your response column has only 2 unique values (0/1). If you wish to train a binary model instead of a regression model, convert your target column to categorical before training.\n",
      "\n",
      "█\n",
      "22:36:13.789: _response param, We have detected that your response column has only 2 unique values (0/1). If you wish to train a binary model instead of a regression model, convert your target column to categorical before training.\n",
      "\n",
      "████\n",
      "22:36:29.412: _response param, We have detected that your response column has only 2 unique values (0/1). If you wish to train a binary model instead of a regression model, convert your target column to categorical before training.\n",
      "\n",
      "█\n",
      "22:36:36.358: _response param, We have detected that your response column has only 2 unique values (0/1). If you wish to train a binary model instead of a regression model, convert your target column to categorical before training.\n",
      "\n",
      "█████\n",
      "22:37:02.656: _response param, We have detected that your response column has only 2 unique values (0/1). If you wish to train a binary model instead of a regression model, convert your target column to categorical before training.\n",
      "22:37:04.410: _response param, We have detected that your response column has only 2 unique values (0/1). If you wish to train a binary model instead of a regression model, convert your target column to categorical before training.\n",
      "\n",
      "██████████████████████████████████████| (done) 100%\n"
     ]
    },
    {
     "data": {
      "text/html": [
       "<pre style='margin: 1em 0 1em 0;'>Model Details\n",
       "=============\n",
       "H2OStackedEnsembleEstimator : Stacked Ensemble\n",
       "Model Key: StackedEnsemble_BestOfFamily_1_AutoML_2_20230226_223508\n",
       "</pre>\n",
       "<div style='margin: 1em 0 1em 0;'>\n",
       "<style>\n",
       "\n",
       "#h2o-table-3.h2o-container {\n",
       "  overflow-x: auto;\n",
       "}\n",
       "#h2o-table-3 .h2o-table {\n",
       "  /* width: 100%; */\n",
       "  margin-top: 1em;\n",
       "  margin-bottom: 1em;\n",
       "}\n",
       "#h2o-table-3 .h2o-table caption {\n",
       "  white-space: nowrap;\n",
       "  caption-side: top;\n",
       "  text-align: left;\n",
       "  /* margin-left: 1em; */\n",
       "  margin: 0;\n",
       "  font-size: larger;\n",
       "}\n",
       "#h2o-table-3 .h2o-table thead {\n",
       "  white-space: nowrap; \n",
       "  position: sticky;\n",
       "  top: 0;\n",
       "  box-shadow: 0 -1px inset;\n",
       "}\n",
       "#h2o-table-3 .h2o-table tbody {\n",
       "  overflow: auto;\n",
       "}\n",
       "#h2o-table-3 .h2o-table th,\n",
       "#h2o-table-3 .h2o-table td {\n",
       "  text-align: right;\n",
       "  /* border: 1px solid; */\n",
       "}\n",
       "#h2o-table-3 .h2o-table tr:nth-child(even) {\n",
       "  /* background: #F5F5F5 */\n",
       "}\n",
       "\n",
       "</style>      \n",
       "<div id=\"h2o-table-3\" class=\"h2o-container\">\n",
       "  <table class=\"h2o-table\">\n",
       "    <caption>Model Summary for Stacked Ensemble: </caption>\n",
       "    <thead><tr><th>key</th>\n",
       "<th>value</th></tr></thead>\n",
       "    <tbody><tr><td>Stacking strategy</td>\n",
       "<td>cross_validation</td></tr>\n",
       "<tr><td>Number of base models (used / total)</td>\n",
       "<td>5/5</td></tr>\n",
       "<tr><td># GBM base models (used / total)</td>\n",
       "<td>1/1</td></tr>\n",
       "<tr><td># DRF base models (used / total)</td>\n",
       "<td>2/2</td></tr>\n",
       "<tr><td># DeepLearning base models (used / total)</td>\n",
       "<td>1/1</td></tr>\n",
       "<tr><td># GLM base models (used / total)</td>\n",
       "<td>1/1</td></tr>\n",
       "<tr><td>Metalearner algorithm</td>\n",
       "<td>GLM</td></tr>\n",
       "<tr><td>Metalearner fold assignment scheme</td>\n",
       "<td>Random</td></tr>\n",
       "<tr><td>Metalearner nfolds</td>\n",
       "<td>5</td></tr>\n",
       "<tr><td>Metalearner fold_column</td>\n",
       "<td>None</td></tr>\n",
       "<tr><td>Custom metalearner hyperparameters</td>\n",
       "<td>None</td></tr></tbody>\n",
       "  </table>\n",
       "</div>\n",
       "</div>\n",
       "<div style='margin: 1em 0 1em 0;'><pre style='margin: 1em 0 1em 0;'>ModelMetricsRegressionGLM: stackedensemble\n",
       "** Reported on train data. **\n",
       "\n",
       "MSE: 0.04675617020333737\n",
       "RMSE: 0.21623175114524085\n",
       "MAE: 0.1413654172379848\n",
       "RMSLE: 0.15207831652591444\n",
       "Mean Residual Deviance: 0.04675617020333737\n",
       "R^2: 0.8129673255406961\n",
       "Null degrees of freedom: 8259\n",
       "Residual degrees of freedom: 8254\n",
       "Null deviance: 2064.911743341401\n",
       "Residual deviance: 386.20596587956663\n",
       "AIC: -1843.9381761768145</pre></div>\n",
       "<div style='margin: 1em 0 1em 0;'><pre style='margin: 1em 0 1em 0;'>ModelMetricsRegressionGLM: stackedensemble\n",
       "** Reported on cross-validation data. **\n",
       "\n",
       "MSE: 0.09945856650687429\n",
       "RMSE: 0.3153705225712674\n",
       "MAE: 0.20964369125032215\n",
       "RMSLE: 0.2226783978929414\n",
       "Mean Residual Deviance: 0.09945856650687429\n",
       "R^2: 0.6021487300869335\n",
       "Null degrees of freedom: 8259\n",
       "Residual degrees of freedom: 8254\n",
       "Null deviance: 2065.6974154819427\n",
       "Residual deviance: 821.5277593467816\n",
       "AIC: 4390.667784039135</pre></div>\n",
       "<div style='margin: 1em 0 1em 0;'>\n",
       "<style>\n",
       "\n",
       "#h2o-table-4.h2o-container {\n",
       "  overflow-x: auto;\n",
       "}\n",
       "#h2o-table-4 .h2o-table {\n",
       "  /* width: 100%; */\n",
       "  margin-top: 1em;\n",
       "  margin-bottom: 1em;\n",
       "}\n",
       "#h2o-table-4 .h2o-table caption {\n",
       "  white-space: nowrap;\n",
       "  caption-side: top;\n",
       "  text-align: left;\n",
       "  /* margin-left: 1em; */\n",
       "  margin: 0;\n",
       "  font-size: larger;\n",
       "}\n",
       "#h2o-table-4 .h2o-table thead {\n",
       "  white-space: nowrap; \n",
       "  position: sticky;\n",
       "  top: 0;\n",
       "  box-shadow: 0 -1px inset;\n",
       "}\n",
       "#h2o-table-4 .h2o-table tbody {\n",
       "  overflow: auto;\n",
       "}\n",
       "#h2o-table-4 .h2o-table th,\n",
       "#h2o-table-4 .h2o-table td {\n",
       "  text-align: right;\n",
       "  /* border: 1px solid; */\n",
       "}\n",
       "#h2o-table-4 .h2o-table tr:nth-child(even) {\n",
       "  /* background: #F5F5F5 */\n",
       "}\n",
       "\n",
       "</style>      \n",
       "<div id=\"h2o-table-4\" class=\"h2o-container\">\n",
       "  <table class=\"h2o-table\">\n",
       "    <caption>Cross-Validation Metrics Summary: </caption>\n",
       "    <thead><tr><th></th>\n",
       "<th>mean</th>\n",
       "<th>sd</th>\n",
       "<th>cv_1_valid</th>\n",
       "<th>cv_2_valid</th>\n",
       "<th>cv_3_valid</th>\n",
       "<th>cv_4_valid</th>\n",
       "<th>cv_5_valid</th></tr></thead>\n",
       "    <tbody><tr><td>mae</td>\n",
       "<td>0.2098253</td>\n",
       "<td>0.0030659</td>\n",
       "<td>0.2049252</td>\n",
       "<td>0.2129563</td>\n",
       "<td>0.2115014</td>\n",
       "<td>0.2105692</td>\n",
       "<td>0.2091747</td></tr>\n",
       "<tr><td>mean_residual_deviance</td>\n",
       "<td>0.0994510</td>\n",
       "<td>0.0023410</td>\n",
       "<td>0.0958434</td>\n",
       "<td>0.1003681</td>\n",
       "<td>0.1008425</td>\n",
       "<td>0.1017260</td>\n",
       "<td>0.0984750</td></tr>\n",
       "<tr><td>mse</td>\n",
       "<td>0.0994510</td>\n",
       "<td>0.0023410</td>\n",
       "<td>0.0958434</td>\n",
       "<td>0.1003681</td>\n",
       "<td>0.1008425</td>\n",
       "<td>0.1017260</td>\n",
       "<td>0.0984750</td></tr>\n",
       "<tr><td>null_deviance</td>\n",
       "<td>413.1395</td>\n",
       "<td>16.42266</td>\n",
       "<td>426.7156</td>\n",
       "<td>414.73782</td>\n",
       "<td>417.6568</td>\n",
       "<td>421.70093</td>\n",
       "<td>384.88626</td></tr>\n",
       "<tr><td>r2</td>\n",
       "<td>0.6018866</td>\n",
       "<td>0.0093386</td>\n",
       "<td>0.6165883</td>\n",
       "<td>0.5984129</td>\n",
       "<td>0.5963620</td>\n",
       "<td>0.5929583</td>\n",
       "<td>0.6051115</td></tr>\n",
       "<tr><td>residual_deviance</td>\n",
       "<td>164.29723</td>\n",
       "<td>7.696338</td>\n",
       "<td>163.60472</td>\n",
       "<td>166.41037</td>\n",
       "<td>168.30614</td>\n",
       "<td>171.61185</td>\n",
       "<td>151.55304</td></tr>\n",
       "<tr><td>rmse</td>\n",
       "<td>0.3153410</td>\n",
       "<td>0.0037260</td>\n",
       "<td>0.3095859</td>\n",
       "<td>0.3168093</td>\n",
       "<td>0.3175571</td>\n",
       "<td>0.3189452</td>\n",
       "<td>0.3138073</td></tr>\n",
       "<tr><td>rmsle</td>\n",
       "<td>0.2226881</td>\n",
       "<td>0.0019528</td>\n",
       "<td>0.2197830</td>\n",
       "<td>0.2222661</td>\n",
       "<td>0.2228110</td>\n",
       "<td>0.2251524</td>\n",
       "<td>0.2234283</td></tr></tbody>\n",
       "  </table>\n",
       "</div>\n",
       "</div><pre style=\"font-size: smaller; margin: 1em 0 0 0;\">\n",
       "\n",
       "[tips]\n",
       "Use `model.explain()` to inspect the model.\n",
       "--\n",
       "Use `h2o.display.toggle_user_tips()` to switch on/off this section.</pre>"
      ],
      "text/plain": [
       "Model Details\n",
       "=============\n",
       "H2OStackedEnsembleEstimator : Stacked Ensemble\n",
       "Model Key: StackedEnsemble_BestOfFamily_1_AutoML_2_20230226_223508\n",
       "\n",
       "\n",
       "Model Summary for Stacked Ensemble: \n",
       "key                                        value\n",
       "-----------------------------------------  ----------------\n",
       "Stacking strategy                          cross_validation\n",
       "Number of base models (used / total)       5/5\n",
       "# GBM base models (used / total)           1/1\n",
       "# DRF base models (used / total)           2/2\n",
       "# DeepLearning base models (used / total)  1/1\n",
       "# GLM base models (used / total)           1/1\n",
       "Metalearner algorithm                      GLM\n",
       "Metalearner fold assignment scheme         Random\n",
       "Metalearner nfolds                         5\n",
       "Metalearner fold_column\n",
       "Custom metalearner hyperparameters         None\n",
       "\n",
       "ModelMetricsRegressionGLM: stackedensemble\n",
       "** Reported on train data. **\n",
       "\n",
       "MSE: 0.04675617020333737\n",
       "RMSE: 0.21623175114524085\n",
       "MAE: 0.1413654172379848\n",
       "RMSLE: 0.15207831652591444\n",
       "Mean Residual Deviance: 0.04675617020333737\n",
       "R^2: 0.8129673255406961\n",
       "Null degrees of freedom: 8259\n",
       "Residual degrees of freedom: 8254\n",
       "Null deviance: 2064.911743341401\n",
       "Residual deviance: 386.20596587956663\n",
       "AIC: -1843.9381761768145\n",
       "\n",
       "ModelMetricsRegressionGLM: stackedensemble\n",
       "** Reported on cross-validation data. **\n",
       "\n",
       "MSE: 0.09945856650687429\n",
       "RMSE: 0.3153705225712674\n",
       "MAE: 0.20964369125032215\n",
       "RMSLE: 0.2226783978929414\n",
       "Mean Residual Deviance: 0.09945856650687429\n",
       "R^2: 0.6021487300869335\n",
       "Null degrees of freedom: 8259\n",
       "Residual degrees of freedom: 8254\n",
       "Null deviance: 2065.6974154819427\n",
       "Residual deviance: 821.5277593467816\n",
       "AIC: 4390.667784039135\n",
       "\n",
       "Cross-Validation Metrics Summary: \n",
       "                        mean      sd          cv_1_valid    cv_2_valid    cv_3_valid    cv_4_valid    cv_5_valid\n",
       "----------------------  --------  ----------  ------------  ------------  ------------  ------------  ------------\n",
       "mae                     0.209825  0.00306594  0.204925      0.212956      0.211501      0.210569      0.209175\n",
       "mean_residual_deviance  0.099451  0.00234096  0.0958434     0.100368      0.100843      0.101726      0.098475\n",
       "mse                     0.099451  0.00234096  0.0958434     0.100368      0.100843      0.101726      0.098475\n",
       "null_deviance           413.139   16.4227     426.716       414.738       417.657       421.701       384.886\n",
       "r2                      0.601887  0.00933863  0.616588      0.598413      0.596362      0.592958      0.605112\n",
       "residual_deviance       164.297   7.69634     163.605       166.41        168.306       171.612       151.553\n",
       "rmse                    0.315341  0.00372596  0.309586      0.316809      0.317557      0.318945      0.313807\n",
       "rmsle                   0.222688  0.00195279  0.219783      0.222266      0.222811      0.225152      0.223428\n",
       "\n",
       "[tips]\n",
       "Use `model.explain()` to inspect the model.\n",
       "--\n",
       "Use `h2o.display.toggle_user_tips()` to switch on/off this section."
      ]
     },
     "execution_count": 136,
     "metadata": {},
     "output_type": "execute_result"
    }
   ],
   "source": [
    "# Run H2O AutoML to automatically select, train and optimize SVM model\n",
    "aml = H2OAutoML(max_models=10, sort_metric='mse', max_runtime_secs=5 * 60, seed=666)\n",
    "aml.train(x=x, y=y, training_frame=train)"
   ]
  },
  {
   "cell_type": "code",
   "execution_count": 137,
   "metadata": {},
   "outputs": [
    {
     "name": "stdout",
     "output_type": "stream",
     "text": [
      "model_id                                                       mse      rmse       mae     rmsle    mean_residual_deviance\n",
      "StackedEnsemble_BestOfFamily_1_AutoML_2_20230226_223508  0.0994586  0.315371  0.209644  0.222678                 0.0994586\n",
      "StackedEnsemble_AllModels_1_AutoML_2_20230226_223508     0.0995224  0.315472  0.209508  0.222684                 0.0995224\n",
      "GBM_3_AutoML_2_20230226_223508                           0.103721   0.322057  0.216855  0.226993                 0.103721\n",
      "GBM_5_AutoML_2_20230226_223508                           0.10435    0.323032  0.221928  0.227254                 0.10435\n",
      "GBM_2_AutoML_2_20230226_223508                           0.104627   0.323461  0.220299  0.227841                 0.104627\n",
      "XRT_1_AutoML_2_20230226_223508                           0.104955   0.323967  0.208112  0.228721                 0.104955\n",
      "DRF_1_AutoML_2_20230226_223508                           0.105204   0.324352  0.207715  0.228916                 0.105204\n",
      "GBM_4_AutoML_2_20230226_223508                           0.105395   0.324646  0.215391  0.2288                   0.105395\n",
      "GBM_1_AutoML_2_20230226_223508                           0.105848   0.325342  0.230326  0.228379                 0.105848\n",
      "DeepLearning_1_AutoML_2_20230226_223508                  0.107157   0.327349  0.218996  0.231542                 0.107157\n",
      "[10 rows x 6 columns]\n",
      "\n"
     ]
    }
   ],
   "source": [
    "# View the leaderboard of trained models\n",
    "lb = aml.leaderboard\n",
    "print(lb.head())"
   ]
  },
  {
   "cell_type": "code",
   "execution_count": 138,
   "metadata": {},
   "outputs": [
    {
     "name": "stdout",
     "output_type": "stream",
     "text": [
      "Parse progress: |████████████████████████████████████████████████████████████████| (done) 100%\n",
      "stackedensemble prediction progress: |███████████████████████████████████████████| (done) 100%\n"
     ]
    }
   ],
   "source": [
    "# Use the best model to predict on test data\n",
    "model = aml.leader\n",
    "X_h2o = h2o.H2OFrame(X_test)\n",
    "X_h2o.columns = list(dataset.columns)[:-1]\n",
    "y_pred = model.predict(X_h2o).as_data_frame().values.flatten()"
   ]
  },
  {
   "cell_type": "code",
   "execution_count": 139,
   "metadata": {},
   "outputs": [],
   "source": [
    "# Train a PySVM SVM model\n",
    "model = LinearSVC(random_state=0, tol=1e-5, max_iter=10000, dual=False)\n",
    "Y_pred = model.fit(X_train, Y_train)"
   ]
  },
  {
   "cell_type": "code",
   "execution_count": null,
   "metadata": {},
   "outputs": [],
   "source": [
    "# fig, ax = plt.subplots(figsize=(8,5))\n",
    "# sns.scatterplot(Y_pred, y[ProcessConfig.label] ,ax=ax)\n",
    "# sns.lineplot(Y_pred,Y_pred,ax=ax,color='black')\n",
    "# ax.set_xlabel(ProcessConfig.label)"
   ]
  },
  {
   "cell_type": "code",
   "execution_count": 140,
   "metadata": {},
   "outputs": [
    {
     "name": "stdout",
     "output_type": "stream",
     "text": [
      "Indices of potentially misclassified instances:  [   1    9   15   17   20   21   27   35   55   60   63   67   89  107\n",
      "  113  132  136  138  141  142  145  157  158  161  163  164  172  178\n",
      "  188  192  193  201  205  218  225  232  235  249  258  260  267  271\n",
      "  278  279  281  282  293  308  315  317  329  337  341  342  346  350\n",
      "  358  369  375  381  399  403  406  412  414  419  421  422  441  446\n",
      "  465  478  483  488  502  516  520  527  556  558  566  574  580  583\n",
      "  586  597  601  602  607  623  639  648  655  656  663  664  672  673\n",
      "  686  687  690  693  696  697  701  703  728  731  733  747  750  760\n",
      "  762  777  783  787  789  791  805  847  852  859  863  880  892  893\n",
      "  894  895  906  907  908  916  924  932  935  938  958  996  999 1002\n",
      " 1014 1016 1037 1040 1042 1049 1052 1053 1060 1071 1073 1077 1080 1081\n",
      " 1092 1105 1108 1115 1126 1128 1138 1139 1173 1178 1183 1184 1187 1198\n",
      " 1206 1219 1222 1228 1231 1242 1245 1247 1263 1278 1297 1310 1320 1326\n",
      " 1330 1338 1343 1369 1373 1375 1376 1396 1401 1408 1410 1417 1418 1433\n",
      " 1434 1435 1446 1456 1471 1473 1478 1479 1480 1490 1491 1495 1520 1529\n",
      " 1532 1549 1551 1556 1559 1574 1588 1615 1618 1628 1652 1657 1664 1672\n",
      " 1687 1690 1693 1694 1695 1696 1699 1719 1728 1729 1736 1743 1744 1745\n",
      " 1749 1754 1760 1765 1766 1780 1788 1796 1820 1826 1833 1838 1850 1854\n",
      " 1861 1873 1886 1889 1890 1891 1892 1895 1906 1907 1920 1921 1928 1930\n",
      " 1932 1941 1950 1956 1970 1971 1977 1982 1993 1994 1997 2002 2005 2011\n",
      " 2012 2020 2031 2046 2059 2061 2065]\n"
     ]
    }
   ],
   "source": [
    "# Test the model on the test data\n",
    "y_pred = model.predict(X_test)\n",
    "misclassified = np.where(Y_test != y_pred)[0]\n",
    "print(\"Indices of potentially misclassified instances: \", misclassified)"
   ]
  },
  {
   "cell_type": "code",
   "execution_count": 141,
   "metadata": {},
   "outputs": [
    {
     "data": {
      "image/png": "[encoded data removed]",
      "text/plain": [
       "<Figure size 640x480 with 2 Axes>"
      ]
     },
     "metadata": {},
     "output_type": "display_data"
    }
   ],
   "source": [
    "# Confusion matrix - summarizing the performance of a classification algorithm.\n",
    "cm = confusion_matrix(Y_test, y_pred)\n",
    "plt.figure()\n",
    "plt.imshow(cm, cmap=plt.cm.Blues)\n",
    "plt.title(\"Confusion matrix\")\n",
    "plt.colorbar()\n",
    "plt.xlabel(\"Predicted label\")\n",
    "plt.ylabel(\"True label\")\n",
    "plt.xticks([0, 1], [\"Negative\", \"Positive\"])\n",
    "plt.yticks([0, 1], [\"Negative\", \"Positive\"])\n",
    "plt.tight_layout()\n",
    "plt.show()"
   ]
  },
  {
   "cell_type": "code",
   "execution_count": 142,
   "metadata": {},
   "outputs": [
    {
     "data": {
      "image/png": "[encoded data removed]",
      "text/plain": [
       "<Figure size 640x480 with 1 Axes>"
      ]
     },
     "metadata": {},
     "output_type": "display_data"
    }
   ],
   "source": [
    "# ROC curve\n",
    "fpr, tpr, thresholds = roc_curve(Y_test, y_pred)\n",
    "roc_auc = auc(fpr, tpr)\n",
    "plt.figure()\n",
    "plt.plot(fpr, tpr, color=\"darkorange\", lw=2, label=\"ROC curve (area = %0.2f)\" % roc_auc)\n",
    "plt.plot([0, 1], [0, 1], color=\"navy\", lw=2, linestyle=\"--\")\n",
    "plt.xlim([0.0, 1.0])\n",
    "plt.ylim([0.0, 1.05])\n",
    "plt.xlabel(\"False Positive Rate\")\n",
    "plt.ylabel(\"True Positive Rate\")\n",
    "plt.title(\"Receiver operating characteristic (ROC)\")\n",
    "plt.legend(loc=\"lower right\")\n",
    "plt.show()"
   ]
  }
 ],
 "metadata": {
  "kernelspec": {
   "display_name": "Python 3",
   "language": "python",
   "name": "python3"
  },
  "language_info": {
   "codemirror_mode": {
    "name": "ipython",
    "version": 3
   },
   "file_extension": ".py",
   "mimetype": "text/x-python",
   "name": "python",
   "nbconvert_exporter": "python",
   "pygments_lexer": "ipython3",
   "version": "3.11.0"
  },
  "orig_nbformat": 4,
  "vscode": {
   "interpreter": {
    "hash": "c261aea317cc0286b3b3261fbba9abdec21eaa57589985bb7a274bf54d6cc0a7"
   }
  }
 },
 "nbformat": 4,
 "nbformat_minor": 2
}
