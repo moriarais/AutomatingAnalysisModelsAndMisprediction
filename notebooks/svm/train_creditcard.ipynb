{
 "cells": [
  {
   "cell_type": "code",
   "execution_count": 1,
   "metadata": {},
   "outputs": [],
   "source": [
    "import numpy as np\n",
    "import h2o\n",
    "from h2o.automl import H2OAutoML\n",
    "from sklearn.preprocessing import StandardScaler\n",
    "from sklearn.svm import SVC, LinearSVC\n",
    "import matplotlib.pyplot as plt\n",
    "from sklearn.metrics import confusion_matrix, roc_curve, auc\n",
    "import os\n",
    "import sys"
   ]
  },
  {
   "cell_type": "code",
   "execution_count": 2,
   "metadata": {},
   "outputs": [],
   "source": [
    "class Location:\n",
    "    \"\"\"Specify the locations of inputs and outputs\"\"\"\n",
    "\n",
    "    # Get the path of the directory containing the script file\n",
    "    script_dir = os.path.dirname(os.path.abspath(sys.path[0]))\n",
    "\n",
    "    # Navigate up to the top-level directory\n",
    "    src_level_dir = os.path.dirname(script_dir)\n",
    "\n",
    "    top_level_dir = os.path.dirname(src_level_dir)\n",
    "\n",
    "    # Define the relative path to the data directory\n",
    "    data_dir = os.path.join(top_level_dir, \"AutomatingAnalysisModelsAndMisprediction\\\\data\")\n",
    "\n",
    "    data_raw: str = f\"{data_dir}\\\\raw\\\\creditcard.csv\"\n",
    "    data_process: str = f\"{data_dir}\\\\processed\\\\creditcard.pkl\"\n",
    "    \n",
    "    \n",
    "class ProcessConfig:\n",
    "    \"\"\"Specify the parameters of the `process` flow\"\"\"\n",
    "\n",
    "    label: str = \"Class\"\n",
    "    test_size: float = 0.2"
   ]
  },
  {
   "cell_type": "code",
   "execution_count": 3,
   "metadata": {},
   "outputs": [],
   "source": [
    "import pandas as pd\n",
    "import pickle\n",
    "def getProcessedData(file_path: str):\n",
    "    # read python dict back from the file\n",
    "    with open(file_path, 'rb') as f:\n",
    "        split_dict = pickle.load(f)\n",
    "\n",
    "    X_train = split_dict[\"X_train\"]\n",
    "    X_test = split_dict[\"X_test\"]\n",
    "    y_train = split_dict[\"y_train\"]\n",
    "    y_test = split_dict[\"y_test\"]\n",
    "    return X_train, X_test, y_train, y_test\n",
    "\n",
    "def getUnprocessedData(url: str):\n",
    "    dataset = pd.read_csv(url)\n",
    "    return dataset"
   ]
  },
  {
   "cell_type": "code",
   "execution_count": 4,
   "metadata": {},
   "outputs": [],
   "source": [
    "X_train, X_test, Y_train, Y_test = getProcessedData(Location.data_process)"
   ]
  },
  {
   "cell_type": "code",
   "execution_count": 5,
   "metadata": {},
   "outputs": [
    {
     "name": "stdout",
     "output_type": "stream",
     "text": [
      "Checking whether there is an H2O instance running at http://localhost:54321..... not found.\n",
      "Attempting to start a local H2O server...\n",
      "; OpenJDK 64-Bit Server VM Microsoft-25199 (build 11.0.12+7, mixed mode)\n",
      "  Starting server from C:\\Python311\\Lib\\site-packages\\h2o\\backend\\bin\\h2o.jar\n",
      "  Ice root: C:\\Users\\ADMINI~1\\AppData\\Local\\Temp\\tmpmcn4xwxx\n",
      "  JVM stdout: C:\\Users\\ADMINI~1\\AppData\\Local\\Temp\\tmpmcn4xwxx\\h2o_Administrator_started_from_python.out\n",
      "  JVM stderr: C:\\Users\\ADMINI~1\\AppData\\Local\\Temp\\tmpmcn4xwxx\\h2o_Administrator_started_from_python.err\n",
      "  Server is running at http://127.0.0.1:54321\n",
      "Connecting to H2O server at http://127.0.0.1:54321 ... successful.\n"
     ]
    },
    {
     "data": {
      "text/html": [
       "\n",
       "<style>\n",
       "\n",
       "#h2o-table-1.h2o-container {\n",
       "  overflow-x: auto;\n",
       "}\n",
       "#h2o-table-1 .h2o-table {\n",
       "  /* width: 100%; */\n",
       "  margin-top: 1em;\n",
       "  margin-bottom: 1em;\n",
       "}\n",
       "#h2o-table-1 .h2o-table caption {\n",
       "  white-space: nowrap;\n",
       "  caption-side: top;\n",
       "  text-align: left;\n",
       "  /* margin-left: 1em; */\n",
       "  margin: 0;\n",
       "  font-size: larger;\n",
       "}\n",
       "#h2o-table-1 .h2o-table thead {\n",
       "  white-space: nowrap; \n",
       "  position: sticky;\n",
       "  top: 0;\n",
       "  box-shadow: 0 -1px inset;\n",
       "}\n",
       "#h2o-table-1 .h2o-table tbody {\n",
       "  overflow: auto;\n",
       "}\n",
       "#h2o-table-1 .h2o-table th,\n",
       "#h2o-table-1 .h2o-table td {\n",
       "  text-align: right;\n",
       "  /* border: 1px solid; */\n",
       "}\n",
       "#h2o-table-1 .h2o-table tr:nth-child(even) {\n",
       "  /* background: #F5F5F5 */\n",
       "}\n",
       "\n",
       "</style>      \n",
       "<div id=\"h2o-table-1\" class=\"h2o-container\">\n",
       "  <table class=\"h2o-table\">\n",
       "    <caption></caption>\n",
       "    <thead></thead>\n",
       "    <tbody><tr><td>H2O_cluster_uptime:</td>\n",
       "<td>14 secs</td></tr>\n",
       "<tr><td>H2O_cluster_timezone:</td>\n",
       "<td>Asia/Jerusalem</td></tr>\n",
       "<tr><td>H2O_data_parsing_timezone:</td>\n",
       "<td>UTC</td></tr>\n",
       "<tr><td>H2O_cluster_version:</td>\n",
       "<td>3.40.0.1</td></tr>\n",
       "<tr><td>H2O_cluster_version_age:</td>\n",
       "<td>15 days</td></tr>\n",
       "<tr><td>H2O_cluster_name:</td>\n",
       "<td>H2O_from_python_Administrator_q4hx68</td></tr>\n",
       "<tr><td>H2O_cluster_total_nodes:</td>\n",
       "<td>1</td></tr>\n",
       "<tr><td>H2O_cluster_free_memory:</td>\n",
       "<td>3.945 Gb</td></tr>\n",
       "<tr><td>H2O_cluster_total_cores:</td>\n",
       "<td>8</td></tr>\n",
       "<tr><td>H2O_cluster_allowed_cores:</td>\n",
       "<td>8</td></tr>\n",
       "<tr><td>H2O_cluster_status:</td>\n",
       "<td>locked, healthy</td></tr>\n",
       "<tr><td>H2O_connection_url:</td>\n",
       "<td>http://127.0.0.1:54321</td></tr>\n",
       "<tr><td>H2O_connection_proxy:</td>\n",
       "<td>{\"http\": null, \"https\": null}</td></tr>\n",
       "<tr><td>H2O_internal_security:</td>\n",
       "<td>False</td></tr>\n",
       "<tr><td>Python_version:</td>\n",
       "<td>3.11.0 final</td></tr></tbody>\n",
       "  </table>\n",
       "</div>\n"
      ],
      "text/plain": [
       "--------------------------  ------------------------------------\n",
       "H2O_cluster_uptime:         14 secs\n",
       "H2O_cluster_timezone:       Asia/Jerusalem\n",
       "H2O_data_parsing_timezone:  UTC\n",
       "H2O_cluster_version:        3.40.0.1\n",
       "H2O_cluster_version_age:    15 days\n",
       "H2O_cluster_name:           H2O_from_python_Administrator_q4hx68\n",
       "H2O_cluster_total_nodes:    1\n",
       "H2O_cluster_free_memory:    3.945 Gb\n",
       "H2O_cluster_total_cores:    8\n",
       "H2O_cluster_allowed_cores:  8\n",
       "H2O_cluster_status:         locked, healthy\n",
       "H2O_connection_url:         http://127.0.0.1:54321\n",
       "H2O_connection_proxy:       {\"http\": null, \"https\": null}\n",
       "H2O_internal_security:      False\n",
       "Python_version:             3.11.0 final\n",
       "--------------------------  ------------------------------------"
      ]
     },
     "metadata": {},
     "output_type": "display_data"
    }
   ],
   "source": [
    "sc = StandardScaler()\n",
    "\n",
    "X_train = sc.fit_transform(X_train)\n",
    "X_test = sc.transform(X_test)\n",
    "\n",
    "# Init an H2O cluster\n",
    "h2o.init()\n"
   ]
  },
  {
   "cell_type": "code",
   "execution_count": 7,
   "metadata": {},
   "outputs": [
    {
     "name": "stdout",
     "output_type": "stream",
     "text": [
      "Parse progress: |████████████████████████████████████████████████████████████████| (done) 100%\n",
      "Run H2O AutoML to automatically select, train and optimize SVM model\n",
      "AutoML progress: |\n",
      "18:52:21.167: AutoML: XGBoost is not available; skipping it.\n",
      "\n",
      "███████████████████████████████████████████████████████████████| (done) 100%\n"
     ]
    },
    {
     "ename": "AttributeError",
     "evalue": "'Series' object has no attribute 'isfactor'",
     "output_type": "error",
     "traceback": [
      "\u001b[1;31m---------------------------------------------------------------------------\u001b[0m",
      "\u001b[1;31mAttributeError\u001b[0m                            Traceback (most recent call last)",
      "Cell \u001b[1;32mIn[7], line 17\u001b[0m\n\u001b[0;32m     14\u001b[0m aml \u001b[39m=\u001b[39m H2OAutoML(sort_metric\u001b[39m=\u001b[39m\u001b[39m'\u001b[39m\u001b[39mmse\u001b[39m\u001b[39m'\u001b[39m, max_runtime_secs\u001b[39m=\u001b[39m\u001b[39m5\u001b[39m \u001b[39m*\u001b[39m \u001b[39m60\u001b[39m, seed\u001b[39m=\u001b[39m\u001b[39m666\u001b[39m)\n\u001b[0;32m     15\u001b[0m aml\u001b[39m.\u001b[39mtrain(x\u001b[39m=\u001b[39mx, y\u001b[39m=\u001b[39my, training_frame\u001b[39m=\u001b[39mtrain)\n\u001b[1;32m---> 17\u001b[0m aml\u001b[39m.\u001b[39;49mexplain(dataset)\n",
      "File \u001b[1;32mc:\\Python311\\Lib\\site-packages\\h2o\\explanation\\_explain.py:3117\u001b[0m, in \u001b[0;36mexplain\u001b[1;34m(models, frame, columns, top_n_features, include_explanations, exclude_explanations, plot_overrides, figsize, render, qualitative_colormap, sequential_colormap)\u001b[0m\n\u001b[0;32m   3066\u001b[0m \u001b[39m\u001b[39m\u001b[39m\"\"\"\u001b[39;00m\n\u001b[0;32m   3067\u001b[0m \u001b[39mGenerate model explanations on frame data set.\u001b[39;00m\n\u001b[0;32m   3068\u001b[0m \n\u001b[1;32m   (...)\u001b[0m\n\u001b[0;32m   3113\u001b[0m \u001b[39m>>> aml.leader.explain(test)\u001b[39;00m\n\u001b[0;32m   3114\u001b[0m \u001b[39m\"\"\"\u001b[39;00m\n\u001b[0;32m   3115\u001b[0m plt \u001b[39m=\u001b[39m get_matplotlib_pyplot(\u001b[39mFalse\u001b[39;00m, raise_if_not_available\u001b[39m=\u001b[39m\u001b[39mTrue\u001b[39;00m)\n\u001b[0;32m   3116\u001b[0m (is_aml, models_to_show, classification, multinomial_classification, multiple_models, targets,\n\u001b[1;32m-> 3117\u001b[0m  tree_models_to_show, models_with_varimp) \u001b[39m=\u001b[39m _process_models_input(models, frame)\n\u001b[0;32m   3119\u001b[0m \u001b[39mif\u001b[39;00m top_n_features \u001b[39m<\u001b[39m \u001b[39m0\u001b[39m:\n\u001b[0;32m   3120\u001b[0m     top_n_features \u001b[39m=\u001b[39m \u001b[39mfloat\u001b[39m(\u001b[39m\"\u001b[39m\u001b[39minf\u001b[39m\u001b[39m\"\u001b[39m)\n",
      "File \u001b[1;32mc:\\Python311\\Lib\\site-packages\\h2o\\explanation\\_explain.py:3025\u001b[0m, in \u001b[0;36m_process_models_input\u001b[1;34m(models, frame)\u001b[0m\n\u001b[0;32m   3023\u001b[0m tree_models_to_show \u001b[39m=\u001b[39m _get_tree_models(models, \u001b[39m1\u001b[39m \u001b[39mif\u001b[39;00m is_aml \u001b[39melse\u001b[39;00m \u001b[39mfloat\u001b[39m(\u001b[39m\"\u001b[39m\u001b[39minf\u001b[39m\u001b[39m\"\u001b[39m))\n\u001b[0;32m   3024\u001b[0m y \u001b[39m=\u001b[39m _get_xy(models_to_show[\u001b[39m0\u001b[39m])[\u001b[39m1\u001b[39m]\n\u001b[1;32m-> 3025\u001b[0m classification \u001b[39m=\u001b[39m frame[y]\u001b[39m.\u001b[39;49misfactor()[\u001b[39m0\u001b[39m]\n\u001b[0;32m   3026\u001b[0m multinomial_classification \u001b[39m=\u001b[39m classification \u001b[39mand\u001b[39;00m frame[y]\u001b[39m.\u001b[39mnlevels()[\u001b[39m0\u001b[39m] \u001b[39m>\u001b[39m \u001b[39m2\u001b[39m\n\u001b[0;32m   3027\u001b[0m targets \u001b[39m=\u001b[39m [\u001b[39mNone\u001b[39;00m]\n",
      "File \u001b[1;32mc:\\Python311\\Lib\\site-packages\\pandas\\core\\generic.py:5902\u001b[0m, in \u001b[0;36mNDFrame.__getattr__\u001b[1;34m(self, name)\u001b[0m\n\u001b[0;32m   5895\u001b[0m \u001b[39mif\u001b[39;00m (\n\u001b[0;32m   5896\u001b[0m     name \u001b[39mnot\u001b[39;00m \u001b[39min\u001b[39;00m \u001b[39mself\u001b[39m\u001b[39m.\u001b[39m_internal_names_set\n\u001b[0;32m   5897\u001b[0m     \u001b[39mand\u001b[39;00m name \u001b[39mnot\u001b[39;00m \u001b[39min\u001b[39;00m \u001b[39mself\u001b[39m\u001b[39m.\u001b[39m_metadata\n\u001b[0;32m   5898\u001b[0m     \u001b[39mand\u001b[39;00m name \u001b[39mnot\u001b[39;00m \u001b[39min\u001b[39;00m \u001b[39mself\u001b[39m\u001b[39m.\u001b[39m_accessors\n\u001b[0;32m   5899\u001b[0m     \u001b[39mand\u001b[39;00m \u001b[39mself\u001b[39m\u001b[39m.\u001b[39m_info_axis\u001b[39m.\u001b[39m_can_hold_identifiers_and_holds_name(name)\n\u001b[0;32m   5900\u001b[0m ):\n\u001b[0;32m   5901\u001b[0m     \u001b[39mreturn\u001b[39;00m \u001b[39mself\u001b[39m[name]\n\u001b[1;32m-> 5902\u001b[0m \u001b[39mreturn\u001b[39;00m \u001b[39mobject\u001b[39;49m\u001b[39m.\u001b[39;49m\u001b[39m__getattribute__\u001b[39;49m(\u001b[39mself\u001b[39;49m, name)\n",
      "\u001b[1;31mAttributeError\u001b[0m: 'Series' object has no attribute 'isfactor'"
     ]
    }
   ],
   "source": [
    "# Convert training data to H2OFrame\n",
    "dataset = getUnprocessedData(Location.data_raw)\n",
    "train = h2o.H2OFrame(np.concatenate((X_train, Y_train.values.reshape(-1, 1)), axis=1))\n",
    "train.columns = list(dataset.columns)\n",
    "train[ProcessConfig.label] = train[ProcessConfig.label].asfactor()\n",
    "\n",
    "# Specify target variable and predictor variables\n",
    "x = train.columns[:-1]\n",
    "y = train.columns[-1]\n",
    "\n",
    "# Run H2O AutoML to automatically select, train and optimize SVM model\n",
    "print(\"Run H2O AutoML to automatically select, train and optimize SVM model\")\n",
    "# aml = H2OAutoML(max_models=10, seed=1)\n",
    "aml = H2OAutoML(sort_metric='mse', max_runtime_secs=5 * 60, seed=666)\n",
    "aml.train(x=x, y=y, training_frame=train)\n"
   ]
  },
  {
   "cell_type": "markdown",
   "metadata": {},
   "source": []
  },
  {
   "cell_type": "code",
   "execution_count": null,
   "metadata": {},
   "outputs": [],
   "source": [
    "# View the leaderboard of trained models\n",
    "lb = aml.leaderboard\n",
    "print(lb.head())"
   ]
  },
  {
   "cell_type": "code",
   "execution_count": null,
   "metadata": {},
   "outputs": [],
   "source": [
    "# Use the best model to predict on test data\n",
    "print(\"Use the best model to predict on test data\")\n",
    "model = aml.leader\n",
    "X_h2o = h2o.H2OFrame(X_test)\n",
    "X_h2o.columns = list(dataset.columns)[:-1]\n",
    "y_pred = model.predict(X_h2o).as_data_frame().values.flatten()"
   ]
  },
  {
   "cell_type": "code",
   "execution_count": null,
   "metadata": {},
   "outputs": [],
   "source": [
    "# Train a PySVM SVM model\n",
    "print(\"Train a PySVM SVM model\")\n",
    "model = LinearSVC(random_state=0, tol=1e-5, max_iter=10000)\n",
    "model.fit(X_train, Y_train)"
   ]
  },
  {
   "cell_type": "code",
   "execution_count": null,
   "metadata": {},
   "outputs": [],
   "source": [
    "# Test the model on the test data\n",
    "y_pred = model.predict(X_test)\n",
    "misclassified = np.where(Y_test != y_pred)[0]\n",
    "print(\"Indices of potentially misclassified instances: \", misclassified)"
   ]
  },
  {
   "cell_type": "code",
   "execution_count": null,
   "metadata": {},
   "outputs": [],
   "source": [
    "# Confusion matrix - summarizing the performance of a classification algorithm.\n",
    "cm = confusion_matrix(Y_test, y_pred)\n",
    "plt.figure()\n",
    "plt.imshow(cm, cmap=plt.cm.Blues)\n",
    "plt.title(\"Confusion matrix\")\n",
    "plt.colorbar()\n",
    "plt.xlabel(\"Predicted label\")\n",
    "plt.ylabel(\"True label\")\n",
    "plt.xticks([0, 1], [\"Negative\", \"Positive\"])\n",
    "plt.yticks([0, 1], [\"Negative\", \"Positive\"])\n",
    "plt.tight_layout()\n",
    "plt.show()"
   ]
  },
  {
   "cell_type": "code",
   "execution_count": null,
   "metadata": {},
   "outputs": [],
   "source": [
    "# ROC curve\n",
    "fpr, tpr, thresholds = roc_curve(Y_test, y_pred)\n",
    "roc_auc = auc(fpr, tpr)\n",
    "plt.figure()\n",
    "plt.plot(fpr, tpr, color=\"darkorange\", lw=2, label=\"ROC curve (area = %0.2f)\" % roc_auc)\n",
    "plt.plot([0, 1], [0, 1], color=\"navy\", lw=2, linestyle=\"--\")\n",
    "plt.xlim([0.0, 1.0])\n",
    "plt.ylim([0.0, 1.05])\n",
    "plt.xlabel(\"False Positive Rate\")\n",
    "plt.ylabel(\"True Positive Rate\")\n",
    "plt.title(\"Receiver operating characteristic (ROC)\")\n",
    "plt.legend(loc=\"lower right\")\n",
    "plt.show()"
   ]
  }
 ],
 "metadata": {
  "kernelspec": {
   "display_name": "Python 3",
   "language": "python",
   "name": "python3"
  },
  "language_info": {
   "codemirror_mode": {
    "name": "ipython",
    "version": 3
   },
   "file_extension": ".py",
   "mimetype": "text/x-python",
   "name": "python",
   "nbconvert_exporter": "python",
   "pygments_lexer": "ipython3",
   "version": "3.11.0"
  },
  "orig_nbformat": 4,
  "vscode": {
   "interpreter": {
    "hash": "c261aea317cc0286b3b3261fbba9abdec21eaa57589985bb7a274bf54d6cc0a7"
   }
  }
 },
 "nbformat": 4,
 "nbformat_minor": 2
}
